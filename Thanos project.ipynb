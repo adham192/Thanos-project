{
 "cells": [
  {
   "cell_type": "code",
   "execution_count": 10,
   "id": "6d0bfdf2",
   "metadata": {},
   "outputs": [
    {
     "data": {
      "text/plain": [
       "'C:\\\\Users\\\\Dell'"
      ]
     },
     "execution_count": 10,
     "metadata": {},
     "output_type": "execute_result"
    }
   ],
   "source": [
    "pwd"
   ]
  },
  {
   "cell_type": "code",
   "execution_count": 28,
   "id": "3c582da0",
   "metadata": {},
   "outputs": [],
   "source": [
    "import os"
   ]
  },
  {
   "cell_type": "code",
   "execution_count": 29,
   "id": "92af01ae",
   "metadata": {},
   "outputs": [],
   "source": [
    "import random"
   ]
  },
  {
   "cell_type": "code",
   "execution_count": 30,
   "id": "39a63519",
   "metadata": {},
   "outputs": [],
   "source": [
    "dir_list=os.listdir(r\"C:\\Users\\Dell\\universe\")"
   ]
  },
  {
   "cell_type": "code",
   "execution_count": 31,
   "id": "011c96e3",
   "metadata": {},
   "outputs": [
    {
     "data": {
      "text/plain": [
       "['cover006.png',\n",
       " 'cover009.png',\n",
       " 'cover011.png',\n",
       " 'cover014.png',\n",
       " 'cover015.png',\n",
       " 'cover016.png',\n",
       " 'cover018.png',\n",
       " 'cover020.png',\n",
       " 'cover023.png',\n",
       " 'cover024.png',\n",
       " 'cover025.png',\n",
       " 'cover027.png',\n",
       " 'cover028.png',\n",
       " 'cover030.png',\n",
       " 'cover031.png',\n",
       " 'cover033.png',\n",
       " 'cover039.png',\n",
       " 'cover040.png',\n",
       " 'cover041.png',\n",
       " 'cover043.png',\n",
       " 'cover046.png',\n",
       " 'cover050.png',\n",
       " 'cover555.png']"
      ]
     },
     "execution_count": 31,
     "metadata": {},
     "output_type": "execute_result"
    }
   ],
   "source": [
    "dir_list"
   ]
  },
  {
   "cell_type": "code",
   "execution_count": 32,
   "id": "51b78d24",
   "metadata": {},
   "outputs": [],
   "source": [
    "random_index=random.sample(dir_list,12)"
   ]
  },
  {
   "cell_type": "code",
   "execution_count": 33,
   "id": "f6354a16",
   "metadata": {},
   "outputs": [
    {
     "data": {
      "text/plain": [
       "['cover555.png',\n",
       " 'cover023.png',\n",
       " 'cover030.png',\n",
       " 'cover025.png',\n",
       " 'cover016.png',\n",
       " 'cover009.png',\n",
       " 'cover040.png',\n",
       " 'cover046.png',\n",
       " 'cover018.png',\n",
       " 'cover031.png',\n",
       " 'cover039.png',\n",
       " 'cover006.png']"
      ]
     },
     "execution_count": 33,
     "metadata": {},
     "output_type": "execute_result"
    }
   ],
   "source": [
    "random_index"
   ]
  },
  {
   "cell_type": "code",
   "execution_count": 34,
   "id": "96ea0d43",
   "metadata": {
    "scrolled": false
   },
   "outputs": [],
   "source": [
    "for file in random_index:\n",
    "    os.remove('universe/' + file)"
   ]
  },
  {
   "cell_type": "code",
   "execution_count": null,
   "id": "902d31d5",
   "metadata": {},
   "outputs": [],
   "source": []
  }
 ],
 "metadata": {
  "kernelspec": {
   "display_name": "Python 3 (ipykernel)",
   "language": "python",
   "name": "python3"
  },
  "language_info": {
   "codemirror_mode": {
    "name": "ipython",
    "version": 3
   },
   "file_extension": ".py",
   "mimetype": "text/x-python",
   "name": "python",
   "nbconvert_exporter": "python",
   "pygments_lexer": "ipython3",
   "version": "3.10.8"
  }
 },
 "nbformat": 4,
 "nbformat_minor": 5
}
